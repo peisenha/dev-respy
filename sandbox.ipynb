{
 "cells": [
  {
   "cell_type": "code",
   "execution_count": 1,
   "metadata": {},
   "outputs": [
    {
     "name": "stdout",
     "output_type": "stream",
     "text": [
      "The autoreload extension is already loaded. To reload it, use:\n",
      "  %reload_ext autoreload\n"
     ]
    }
   ],
   "source": [
    "%load_ext autoreload\n",
    "%autoreload 2\n",
    "import matplotlib.pyplot as plt\n",
    "import numdifftools as nd\n",
    "import pandas as pd\n",
    "import respy as rp\n",
    "import numpy as np\n",
    "from estimagic.optimization.optimize import maximize\n"
   ]
  },
  {
   "cell_type": "code",
   "execution_count": 10,
   "metadata": {},
   "outputs": [
    {
     "data": {
      "text/plain": [
       "{'estimation_draws': 200,\n",
       " 'estimation_seed': 500,\n",
       " 'estimation_tau': 500,\n",
       " 'interpolation_points': -1,\n",
       " 'n_periods': 50,\n",
       " 'simulation_agents': 5000,\n",
       " 'simulation_seed': 132,\n",
       " 'solution_draws': 500,\n",
       " 'solution_seed': 456,\n",
       " 'core_state_space_filters': [\"period > 0 and exp_{i} == period and lagged_choice_1 != '{i}'\",\n",
       "  \"period > 0 and exp_white_collar + exp_blue_collar + exp_military + exp_school == period and lagged_choice_1 == '{j}'\",\n",
       "  \"period > 0 and lagged_choice_1 == 'school' and exp_school == 0\",\n",
       "  \"lagged_choice_1 == '{k}' and exp_{k} == 0\",\n",
       "  \"period == 0 and lagged_choice_1 == '{k}'\"],\n",
       " 'covariates': {'not_exp_white_collar_lagged': \"exp_white_collar > 0 and lagged_choice_1 != 'white_collar'\",\n",
       "  'not_exp_blue_collar_lagged': \"exp_blue_collar > 0 and lagged_choice_1 != 'blue_collar'\",\n",
       "  'work_white_collar_lagged': \"lagged_choice_1 == 'white_collar'\",\n",
       "  'work_blue_collar_lagged': \"lagged_choice_1 == 'blue_collar'\",\n",
       "  'school_lagged': \"lagged_choice_1 == 'school'\",\n",
       "  'not_any_exp_white_collar': 'exp_white_collar == 0',\n",
       "  'not_any_exp_blue_collar': 'exp_blue_collar == 0',\n",
       "  'not_any_exp_military': 'exp_military == 0',\n",
       "  'any_exp_white_collar': 'exp_white_collar > 0',\n",
       "  'any_exp_blue_collar': 'exp_blue_collar > 0',\n",
       "  'any_exp_military': 'exp_military > 0',\n",
       "  'hs_graduate': 'exp_school >= 12',\n",
       "  'co_graduate': 'exp_school >= 16',\n",
       "  'common_hs_graduate': 'hs_graduate',\n",
       "  'common_co_graduate': 'co_graduate',\n",
       "  'is_return_not_high_school': '~school_lagged and ~hs_graduate',\n",
       "  'is_return_high_school': '~school_lagged and hs_graduate',\n",
       "  'is_minor': 'period < 2',\n",
       "  'is_young_adult': '2 <= period <= 4',\n",
       "  'is_adult': '5 <= period',\n",
       "  'constant': '1',\n",
       "  'exp_white_collar_square': 'exp_white_collar ** 2 / 100',\n",
       "  'exp_blue_collar_square': 'exp_blue_collar ** 2 / 100',\n",
       "  'exp_military_square': 'exp_military ** 2 / 100',\n",
       "  'military_dropout': 'exp_military == 1',\n",
       "  'up_to_nine_years_school': 'exp_school <= 9',\n",
       "  'at_least_ten_years_school': '10 <= exp_school',\n",
       "  'black': \"race == 'black'\",\n",
       "  'white': \"race == 'white'\",\n",
       "  'black_and_up_to_nine_years_school': 'exp_school <= 9 and black',\n",
       "  'black_and_at_least_ten_years_school': '10 <= exp_school and black'}}"
      ]
     },
     "execution_count": 10,
     "metadata": {},
     "output_type": "execute_result"
    }
   ],
   "source": [
    "params_base, options_base = rp.get_example_model(\"kw_2000\", with_data=False)\n",
    "options_base"
   ]
  },
  {
   "cell_type": "code",
   "execution_count": 51,
   "metadata": {},
   "outputs": [],
   "source": [
    "crit_func = rp.get_crit_func(params_base, options_base, df)\n",
    "\n",
    "params_start = params_base.copy()\n",
    "params_start.loc[(\"shocks_sdcorr\", \"sd_hammock\"), \"value\"] = -0.5\n",
    "\n",
    "results, params_rslt = maximize(\n",
    "                    crit_func, params_start, \n",
    "                    \"nlopt_bobyqa\", \n",
    "                    algo_options={\"maxeval\": 10}, \n",
    "                    constraints=constr_base, \n",
    "        )"
   ]
  },
  {
   "cell_type": "code",
   "execution_count": null,
   "metadata": {},
   "outputs": [],
   "source": [
    "results, params_rslt"
   ]
  },
  {
   "cell_type": "code",
   "execution_count": 23,
   "metadata": {},
   "outputs": [
    {
     "data": {
      "image/png": "[encoded data removed]",
      "text/plain": [
       "<Figure size 432x288 with 1 Axes>"
      ]
     },
     "metadata": {
      "needs_background": "light"
     },
     "output_type": "display_data"
    },
    {
     "data": {
      "image/png": "[encoded data removed]",
      "text/plain": [
       "<Figure size 432x288 with 1 Axes>"
      ]
     },
     "metadata": {
      "needs_background": "light"
     },
     "output_type": "display_data"
    }
   ],
   "source": [
    "for i, index in enumerate([(\"shocks_sdcorr\", \"sd_hammock\")]):\n",
    "    \n",
    "    for is_perturb in [True, False]:\n",
    "\n",
    "        fname = f\"bootstrap.{index[1]}_perturb_{str(is_perturb).lower()}.pkl\"\n",
    "        boot_params = pd.read_pickle(fname)\n",
    "\n",
    "        fig, ax = plt.subplots()\n",
    "\n",
    "        ax.hist(boot_params.loc[index, :])\n",
    "        ax.set_title(f\"{index} {is_perturb}\")\n",
    "\n",
    "        plt.show()"
   ]
  },
  {
   "cell_type": "code",
   "execution_count": 25,
   "metadata": {},
   "outputs": [
    {
     "data": {
      "text/plain": [
       "0.012890647124466774"
      ]
     },
     "execution_count": 25,
     "metadata": {},
     "output_type": "execute_result"
    }
   ],
   "source": [
    "boot_params.loc[(\"shocks_sdcorr\", \"sd_hammock\")].mean()"
   ]
  },
  {
   "cell_type": "code",
   "execution_count": null,
   "metadata": {},
   "outputs": [],
   "source": []
  }
 ],
 "metadata": {
  "kernelspec": {
   "display_name": "Python 3",
   "language": "python",
   "name": "python3"
  },
  "language_info": {
   "codemirror_mode": {
    "name": "ipython",
    "version": 3
   },
   "file_extension": ".py",
   "mimetype": "text/x-python",
   "name": "python",
   "nbconvert_exporter": "python",
   "pygments_lexer": "ipython3",
   "version": "3.7.6"
  }
 },
 "nbformat": 4,
 "nbformat_minor": 4
}
