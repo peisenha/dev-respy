{
 "cells": [
  {
   "cell_type": "code",
   "execution_count": 28,
   "metadata": {},
   "outputs": [],
   "source": [
    "import respy as rp\n",
    "import pandas as pd\n",
    "import numpy as np\n",
    "\n",
    "from auxiliary import _get_choices_occupations"
   ]
  },
  {
   "cell_type": "code",
   "execution_count": 30,
   "metadata": {},
   "outputs": [],
   "source": [
    "params, options, data = rp.get_example_model(\"kw_94_two\")"
   ]
  },
  {
   "cell_type": "code",
   "execution_count": 44,
   "metadata": {},
   "outputs": [
    {
     "data": {
      "text/plain": [
       "'exp_a + exp_b + exp_c'"
      ]
     },
     "execution_count": 44,
     "metadata": {},
     "output_type": "execute_result"
    }
   ],
   "source": [
    "occupations = [\"a\", \"b\", \"c\"]\n",
    "\n",
    "substring = \"\"\n",
    "for occupation in occupations:\n",
    "    substring += f\"exp_{occupation} + \"\n",
    "    \n",
    "substring = substring[:substring.rfind(\"+\") - 1]\n",
    "substring\n"
   ]
  },
  {
   "cell_type": "code",
   "execution_count": 46,
   "metadata": {},
   "outputs": [
    {
     "data": {
      "text/plain": [
       "\"period > 0 and exp_a + exp_b + exp_c + exp_edu == periodand lagged_choice_1 == '{choices_wo_exp}'\""
      ]
     },
     "execution_count": 46,
     "metadata": {},
     "output_type": "execute_result"
    }
   ],
   "source": [
    "f\"period > 0 and {substring} + exp_edu == period\" +  \"and lagged_choice_1 == '{choices_wo_exp}'\""
   ]
  }
 ],
 "metadata": {
  "kernelspec": {
   "display_name": "Python 3",
   "language": "python",
   "name": "python3"
  },
  "language_info": {
   "codemirror_mode": {
    "name": "ipython",
    "version": 3
   },
   "file_extension": ".py",
   "mimetype": "text/x-python",
   "name": "python",
   "nbconvert_exporter": "python",
   "pygments_lexer": "ipython3",
   "version": "3.7.7"
  }
 },
 "nbformat": 4,
 "nbformat_minor": 4
}
