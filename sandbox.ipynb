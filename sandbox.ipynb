{
 "cells": [
  {
   "cell_type": "code",
   "execution_count": 1,
   "metadata": {},
   "outputs": [],
   "source": [
    "import respy as rp\n",
    "import pandas as pd\n",
    "import numpy as np"
   ]
  },
  {
   "cell_type": "code",
   "execution_count": 2,
   "metadata": {},
   "outputs": [],
   "source": [
    "params, options, data = rp.get_example_model(\"kw_94_two\")"
   ]
  },
  {
   "cell_type": "code",
   "execution_count": 21,
   "metadata": {},
   "outputs": [
    {
     "data": {
      "text/plain": [
       "(['a', 'b', 'edu', 'home'], ['a', 'b'])"
      ]
     },
     "execution_count": 21,
     "metadata": {},
     "output_type": "execute_result"
    }
   ],
   "source": [
    "def get_choices_occupations(params):\n",
    "    choices, occupations = list(), list()\n",
    "    for candidate in params.index.get_level_values(\"category\"):\n",
    "        if \"wage\" not in candidate and \"nonpec\" not in candidate:\n",
    "            continue\n",
    "\n",
    "        choice = candidate.split(\"_\")[1:][0]\n",
    "        if \"wage\" in candidate and choice not in occupations:\n",
    "            occupations.append(choice)\n",
    "            \n",
    "        if choice in choices:\n",
    "            continue\n",
    "\n",
    "        choices.append(choice)\n",
    "        \n",
    "    return choices, occupations\n",
    "\n",
    "get_choices_occupations(params)"
   ]
  }
 ],
 "metadata": {
  "kernelspec": {
   "display_name": "Python 3",
   "language": "python",
   "name": "python3"
  },
  "language_info": {
   "codemirror_mode": {
    "name": "ipython",
    "version": 3
   },
   "file_extension": ".py",
   "mimetype": "text/x-python",
   "name": "python",
   "nbconvert_exporter": "python",
   "pygments_lexer": "ipython3",
   "version": "3.7.7"
  }
 },
 "nbformat": 4,
 "nbformat_minor": 4
}
