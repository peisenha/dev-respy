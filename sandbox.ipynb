{
 "cells": [
  {
   "cell_type": "code",
   "execution_count": 172,
   "metadata": {},
   "outputs": [],
   "source": [
    "import respy as rp\n",
    "import pandas as pd\n",
    "import numpy as np\n",
    "\n",
    "from auxiliary import *\n",
    "\n",
    "pd.set_option('display.max_rows', 1000)"
   ]
  },
  {
   "cell_type": "code",
   "execution_count": 173,
   "metadata": {},
   "outputs": [],
   "source": [
    "params, options, data = rp.get_example_model(\"kw_94_two\")\n",
    "\n",
    "num_occupations, n_periods = 3, 3"
   ]
  },
  {
   "cell_type": "code",
   "execution_count": 184,
   "metadata": {},
   "outputs": [
    {
     "name": "stdout",
     "output_type": "stream",
     "text": [
      "['aa', 'blue_collar', 'military', 'white_collar', 'school', 'home']\n"
     ]
    },
    {
     "name": "stderr",
     "output_type": "stream",
     "text": [
      "/home/peisenha/local/anaconda3/envs/respy-development/lib/python3.7/site-packages/respy/pre_processing/model_processing.py:590: UserWarning: The probabilities for parameter group \\binitial_exp_school_([0-9]+)\\b do not sum to one.\n",
      "  category=UserWarning,\n",
      "/home/peisenha/local/anaconda3/envs/respy-development/lib/python3.7/site-packages/respy/pre_processing/model_processing.py:590: UserWarning: The probabilities for parameter group \\binitial_exp_school_([0-9]+)\\b do not sum to one.\n",
      "  category=UserWarning,\n",
      "/home/peisenha/local/anaconda3/envs/respy-development/lib/python3.7/site-packages/respy/pre_processing/model_processing.py:590: UserWarning: The probabilities for parameter group \\binitial_exp_school_([0-9]+)\\b do not sum to one.\n",
      "  category=UserWarning,\n",
      "/home/peisenha/local/anaconda3/envs/respy-development/lib/python3.7/site-packages/respy/pre_processing/model_processing.py:590: UserWarning: The probabilities for parameter group \\binitial_exp_school_([0-9]+)\\b do not sum to one.\n",
      "  category=UserWarning,\n"
     ]
    },
    {
     "ename": "AssertionError",
     "evalue": "\nItems are not equal:\n ACTUAL: 3\n DESIRED: 6",
     "output_type": "error",
     "traceback": [
      "\u001b[0;31m---------------------------------------------------------------------------\u001b[0m",
      "\u001b[0;31mAssertionError\u001b[0m                            Traceback (most recent call last)",
      "\u001b[0;32m<ipython-input-184-fcc6111d803f>\u001b[0m in \u001b[0;36m<module>\u001b[0;34m\u001b[0m\n\u001b[1;32m     16\u001b[0m             \u001b[0msimulate\u001b[0m\u001b[0;34m(\u001b[0m\u001b[0mparams_occ\u001b[0m\u001b[0;34m)\u001b[0m\u001b[0;34m\u001b[0m\u001b[0;34m\u001b[0m\u001b[0m\n\u001b[1;32m     17\u001b[0m \u001b[0;34m\u001b[0m\u001b[0m\n\u001b[0;32m---> 18\u001b[0;31m             \u001b[0mnp\u001b[0m\u001b[0;34m.\u001b[0m\u001b[0mtesting\u001b[0m\u001b[0;34m.\u001b[0m\u001b[0massert_equal\u001b[0m\u001b[0;34m(\u001b[0m\u001b[0mnum_occupations\u001b[0m \u001b[0;34m+\u001b[0m \u001b[0;36m2\u001b[0m\u001b[0;34m,\u001b[0m \u001b[0mlen\u001b[0m\u001b[0;34m(\u001b[0m\u001b[0mchoices\u001b[0m\u001b[0;34m)\u001b[0m\u001b[0;34m)\u001b[0m\u001b[0;34m\u001b[0m\u001b[0;34m\u001b[0m\u001b[0m\n\u001b[0m",
      "    \u001b[0;31m[... skipping hidden 1 frame]\u001b[0m\n",
      "\u001b[0;31mAssertionError\u001b[0m: \nItems are not equal:\n ACTUAL: 3\n DESIRED: 6"
     ]
    }
   ],
   "source": [
    "if True:\n",
    "    n_periods = 3\n",
    "\n",
    "    for model in [\"kw_97_basic\"]:\n",
    "\n",
    "        params, options, data = rp.get_example_model(model)\n",
    "\n",
    "        for num_occupations in range(1, 3):\n",
    "            params_occ, options_occ = update_model_specification(params, options, num_occupations)\n",
    "\n",
    "            choices = _get_choices_occupations(params_occ)[0]\n",
    "\n",
    "            options[\"n_periods\"] = n_periods\n",
    "\n",
    "            simulate = rp.get_simulate_func(params_occ, options)\n",
    "            simulate(params_occ)\n",
    "\n",
    "            np.testing.assert_equal(num_occupations + 2, len(choices))"
   ]
  },
  {
   "cell_type": "code",
   "execution_count": null,
   "metadata": {},
   "outputs": [],
   "source": []
  }
 ],
 "metadata": {
  "kernelspec": {
   "display_name": "Python 3",
   "language": "python",
   "name": "python3"
  },
  "language_info": {
   "codemirror_mode": {
    "name": "ipython",
    "version": 3
   },
   "file_extension": ".py",
   "mimetype": "text/x-python",
   "name": "python",
   "nbconvert_exporter": "python",
   "pygments_lexer": "ipython3",
   "version": "3.7.7"
  }
 },
 "nbformat": 4,
 "nbformat_minor": 4
}
