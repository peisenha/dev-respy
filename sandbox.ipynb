{
 "cells": [
  {
   "cell_type": "code",
   "execution_count": 164,
   "metadata": {},
   "outputs": [],
   "source": [
    "import respy as rp\n",
    "import pandas as pd\n",
    "import numpy as np\n",
    "\n",
    "from auxiliary import *\n",
    "from itertools import product\n",
    "\n",
    "pd.set_option('display.max_rows', 1000)"
   ]
  },
  {
   "cell_type": "code",
   "execution_count": 180,
   "metadata": {},
   "outputs": [
    {
     "name": "stdout",
     "output_type": "stream",
     "text": [
      "kw_97_basic 1 1\n"
     ]
    },
    {
     "name": "stderr",
     "output_type": "stream",
     "text": [
      "/home/peisenha/local/anaconda3/envs/respy-development/lib/python3.7/site-packages/respy/pre_processing/model_processing.py:590: UserWarning: The probabilities for parameter group \\binitial_exp_school_([0-9]+)\\b do not sum to one.\n",
      "  category=UserWarning,\n",
      "/home/peisenha/local/anaconda3/envs/respy-development/lib/python3.7/site-packages/respy/pre_processing/model_processing.py:590: UserWarning: The probabilities for parameter group \\binitial_exp_school_([0-9]+)\\b do not sum to one.\n",
      "  category=UserWarning,\n",
      "/home/peisenha/local/anaconda3/envs/respy-development/lib/python3.7/site-packages/respy/pre_processing/model_processing.py:590: UserWarning: The probabilities for parameter group \\binitial_exp_school_([0-9]+)\\b do not sum to one.\n",
      "  category=UserWarning,\n",
      "/home/peisenha/local/anaconda3/envs/respy-development/lib/python3.7/site-packages/respy/pre_processing/model_processing.py:590: UserWarning: The probabilities for parameter group \\binitial_exp_school_([0-9]+)\\b do not sum to one.\n",
      "  category=UserWarning,\n"
     ]
    },
    {
     "name": "stdout",
     "output_type": "stream",
     "text": [
      "kw_97_basic 1 2\n"
     ]
    },
    {
     "name": "stderr",
     "output_type": "stream",
     "text": [
      "/home/peisenha/local/anaconda3/envs/respy-development/lib/python3.7/site-packages/respy/pre_processing/model_processing.py:590: UserWarning: The probabilities for parameter group \\binitial_exp_school_([0-9]+)\\b do not sum to one.\n",
      "  category=UserWarning,\n",
      "/home/peisenha/local/anaconda3/envs/respy-development/lib/python3.7/site-packages/respy/pre_processing/model_processing.py:590: UserWarning: The probabilities for parameter group \\binitial_exp_school_([0-9]+)\\b do not sum to one.\n",
      "  category=UserWarning,\n",
      "/home/peisenha/local/anaconda3/envs/respy-development/lib/python3.7/site-packages/respy/pre_processing/model_processing.py:590: UserWarning: The probabilities for parameter group \\binitial_exp_school_([0-9]+)\\b do not sum to one.\n",
      "  category=UserWarning,\n",
      "/home/peisenha/local/anaconda3/envs/respy-development/lib/python3.7/site-packages/respy/pre_processing/model_processing.py:590: UserWarning: The probabilities for parameter group \\binitial_exp_school_([0-9]+)\\b do not sum to one.\n",
      "  category=UserWarning,\n"
     ]
    },
    {
     "name": "stdout",
     "output_type": "stream",
     "text": [
      "kw_97_basic 2 1\n"
     ]
    },
    {
     "name": "stderr",
     "output_type": "stream",
     "text": [
      "/home/peisenha/local/anaconda3/envs/respy-development/lib/python3.7/site-packages/respy/pre_processing/model_processing.py:590: UserWarning: The probabilities for parameter group \\binitial_exp_school_([0-9]+)\\b do not sum to one.\n",
      "  category=UserWarning,\n",
      "/home/peisenha/local/anaconda3/envs/respy-development/lib/python3.7/site-packages/respy/pre_processing/model_processing.py:590: UserWarning: The probabilities for parameter group \\binitial_exp_school_([0-9]+)\\b do not sum to one.\n",
      "  category=UserWarning,\n",
      "/home/peisenha/local/anaconda3/envs/respy-development/lib/python3.7/site-packages/respy/pre_processing/model_processing.py:590: UserWarning: The probabilities for parameter group \\binitial_exp_school_([0-9]+)\\b do not sum to one.\n",
      "  category=UserWarning,\n",
      "/home/peisenha/local/anaconda3/envs/respy-development/lib/python3.7/site-packages/respy/pre_processing/model_processing.py:590: UserWarning: The probabilities for parameter group \\binitial_exp_school_([0-9]+)\\b do not sum to one.\n",
      "  category=UserWarning,\n"
     ]
    },
    {
     "name": "stdout",
     "output_type": "stream",
     "text": [
      "kw_97_basic 2 2\n"
     ]
    },
    {
     "name": "stderr",
     "output_type": "stream",
     "text": [
      "/home/peisenha/local/anaconda3/envs/respy-development/lib/python3.7/site-packages/respy/pre_processing/model_processing.py:590: UserWarning: The probabilities for parameter group \\binitial_exp_school_([0-9]+)\\b do not sum to one.\n",
      "  category=UserWarning,\n",
      "/home/peisenha/local/anaconda3/envs/respy-development/lib/python3.7/site-packages/respy/pre_processing/model_processing.py:590: UserWarning: The probabilities for parameter group \\binitial_exp_school_([0-9]+)\\b do not sum to one.\n",
      "  category=UserWarning,\n",
      "/home/peisenha/local/anaconda3/envs/respy-development/lib/python3.7/site-packages/respy/pre_processing/model_processing.py:590: UserWarning: The probabilities for parameter group \\binitial_exp_school_([0-9]+)\\b do not sum to one.\n",
      "  category=UserWarning,\n",
      "/home/peisenha/local/anaconda3/envs/respy-development/lib/python3.7/site-packages/respy/pre_processing/model_processing.py:590: UserWarning: The probabilities for parameter group \\binitial_exp_school_([0-9]+)\\b do not sum to one.\n",
      "  category=UserWarning,\n"
     ]
    },
    {
     "name": "stdout",
     "output_type": "stream",
     "text": [
      "kw_94_one 1 1\n",
      "kw_94_one 1 2\n",
      "kw_94_one 2 1\n",
      "kw_94_one 2 2\n",
      "kw_97_extended 1 1\n"
     ]
    },
    {
     "name": "stderr",
     "output_type": "stream",
     "text": [
      "/home/peisenha/local/anaconda3/envs/respy-development/lib/python3.7/site-packages/respy/pre_processing/model_processing.py:590: UserWarning: The probabilities for parameter group \\binitial_exp_school_([0-9]+)\\b do not sum to one.\n",
      "  category=UserWarning,\n",
      "/home/peisenha/local/anaconda3/envs/respy-development/lib/python3.7/site-packages/respy/pre_processing/model_processing.py:590: UserWarning: The probabilities for parameter group \\binitial_exp_school_([0-9]+)\\b do not sum to one.\n",
      "  category=UserWarning,\n",
      "/home/peisenha/local/anaconda3/envs/respy-development/lib/python3.7/site-packages/respy/pre_processing/model_processing.py:590: UserWarning: The probabilities for parameter group \\binitial_exp_school_([0-9]+)\\b do not sum to one.\n",
      "  category=UserWarning,\n",
      "/home/peisenha/local/anaconda3/envs/respy-development/lib/python3.7/site-packages/respy/pre_processing/model_processing.py:590: UserWarning: The probabilities for parameter group \\binitial_exp_school_([0-9]+)\\b do not sum to one.\n",
      "  category=UserWarning,\n"
     ]
    },
    {
     "name": "stdout",
     "output_type": "stream",
     "text": [
      "kw_97_extended 1 2\n"
     ]
    },
    {
     "name": "stderr",
     "output_type": "stream",
     "text": [
      "/home/peisenha/local/anaconda3/envs/respy-development/lib/python3.7/site-packages/respy/pre_processing/model_processing.py:590: UserWarning: The probabilities for parameter group \\binitial_exp_school_([0-9]+)\\b do not sum to one.\n",
      "  category=UserWarning,\n",
      "/home/peisenha/local/anaconda3/envs/respy-development/lib/python3.7/site-packages/respy/pre_processing/model_processing.py:590: UserWarning: The probabilities for parameter group \\binitial_exp_school_([0-9]+)\\b do not sum to one.\n",
      "  category=UserWarning,\n",
      "/home/peisenha/local/anaconda3/envs/respy-development/lib/python3.7/site-packages/respy/pre_processing/model_processing.py:590: UserWarning: The probabilities for parameter group \\binitial_exp_school_([0-9]+)\\b do not sum to one.\n",
      "  category=UserWarning,\n",
      "/home/peisenha/local/anaconda3/envs/respy-development/lib/python3.7/site-packages/respy/pre_processing/model_processing.py:590: UserWarning: The probabilities for parameter group \\binitial_exp_school_([0-9]+)\\b do not sum to one.\n",
      "  category=UserWarning,\n"
     ]
    },
    {
     "name": "stdout",
     "output_type": "stream",
     "text": [
      "kw_97_extended 2 1\n"
     ]
    },
    {
     "name": "stderr",
     "output_type": "stream",
     "text": [
      "/home/peisenha/local/anaconda3/envs/respy-development/lib/python3.7/site-packages/respy/pre_processing/model_processing.py:590: UserWarning: The probabilities for parameter group \\binitial_exp_school_([0-9]+)\\b do not sum to one.\n",
      "  category=UserWarning,\n",
      "/home/peisenha/local/anaconda3/envs/respy-development/lib/python3.7/site-packages/respy/pre_processing/model_processing.py:590: UserWarning: The probabilities for parameter group \\binitial_exp_school_([0-9]+)\\b do not sum to one.\n",
      "  category=UserWarning,\n",
      "/home/peisenha/local/anaconda3/envs/respy-development/lib/python3.7/site-packages/respy/pre_processing/model_processing.py:590: UserWarning: The probabilities for parameter group \\binitial_exp_school_([0-9]+)\\b do not sum to one.\n",
      "  category=UserWarning,\n",
      "/home/peisenha/local/anaconda3/envs/respy-development/lib/python3.7/site-packages/respy/pre_processing/model_processing.py:590: UserWarning: The probabilities for parameter group \\binitial_exp_school_([0-9]+)\\b do not sum to one.\n",
      "  category=UserWarning,\n"
     ]
    },
    {
     "name": "stdout",
     "output_type": "stream",
     "text": [
      "kw_97_extended 2 2\n"
     ]
    },
    {
     "name": "stderr",
     "output_type": "stream",
     "text": [
      "/home/peisenha/local/anaconda3/envs/respy-development/lib/python3.7/site-packages/respy/pre_processing/model_processing.py:590: UserWarning: The probabilities for parameter group \\binitial_exp_school_([0-9]+)\\b do not sum to one.\n",
      "  category=UserWarning,\n",
      "/home/peisenha/local/anaconda3/envs/respy-development/lib/python3.7/site-packages/respy/pre_processing/model_processing.py:590: UserWarning: The probabilities for parameter group \\binitial_exp_school_([0-9]+)\\b do not sum to one.\n",
      "  category=UserWarning,\n",
      "/home/peisenha/local/anaconda3/envs/respy-development/lib/python3.7/site-packages/respy/pre_processing/model_processing.py:590: UserWarning: The probabilities for parameter group \\binitial_exp_school_([0-9]+)\\b do not sum to one.\n",
      "  category=UserWarning,\n",
      "/home/peisenha/local/anaconda3/envs/respy-development/lib/python3.7/site-packages/respy/pre_processing/model_processing.py:590: UserWarning: The probabilities for parameter group \\binitial_exp_school_([0-9]+)\\b do not sum to one.\n",
      "  category=UserWarning,\n"
     ]
    }
   ],
   "source": [
    "models = [\"kw_97_basic\", \"kw_94_one\", \"kw_97_extended\"]\n",
    "add_types = range(1, 3)\n",
    "add_occ = range(1, 3)\n",
    "\n",
    "combinations = list(product(models, add_occ, add_types))\n",
    "for model, add_occ, add_types in combinations:\n",
    "    print(model, add_occ, add_types)\n",
    "    params, options = scaling_model_specification(model, 3, add_occ, add_types)\n",
    "    rp.get_simulate_func(params, options)(params)\n"
   ]
  },
  {
   "cell_type": "code",
   "execution_count": null,
   "metadata": {},
   "outputs": [],
   "source": []
  }
 ],
 "metadata": {
  "kernelspec": {
   "display_name": "Python 3",
   "language": "python",
   "name": "python3"
  },
  "language_info": {
   "codemirror_mode": {
    "name": "ipython",
    "version": 3
   },
   "file_extension": ".py",
   "mimetype": "text/x-python",
   "name": "python",
   "nbconvert_exporter": "python",
   "pygments_lexer": "ipython3",
   "version": "3.7.7"
  }
 },
 "nbformat": 4,
 "nbformat_minor": 4
}
