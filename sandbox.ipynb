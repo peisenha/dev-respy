{
 "cells": [
  {
   "cell_type": "code",
   "execution_count": 139,
   "metadata": {},
   "outputs": [],
   "source": [
    "import respy as rp\n",
    "import pandas as pd\n",
    "import numpy as np"
   ]
  },
  {
   "cell_type": "code",
   "execution_count": 140,
   "metadata": {},
   "outputs": [],
   "source": [
    "params, options, data = rp.get_example_model(\"kw_94_two\")"
   ]
  },
  {
   "cell_type": "code",
   "execution_count": 184,
   "metadata": {},
   "outputs": [
    {
     "data": {
      "text/plain": [
       "['corr_b_a',\n",
       " 'corr_c_a',\n",
       " 'corr_c_b',\n",
       " 'corr_edu_a',\n",
       " 'corr_edu_b',\n",
       " 'corr_edu_c',\n",
       " 'corr_home_a',\n",
       " 'corr_home_b',\n",
       " 'corr_home_c',\n",
       " 'corr_home_edu']"
      ]
     },
     "execution_count": 184,
     "metadata": {},
     "output_type": "execute_result"
    }
   ],
   "source": [
    "choices = [\"a\", \"b\", \"c\", \"edu\", \"home\"]\n",
    "\n",
    "cov = np.tile(\"fsdklfjldskjfldsjlfksakjf\", (5, 5))\n",
    "\n",
    "for i, row in enumerate(choices):\n",
    "    for j, column in enumerate(choices):\n",
    "        if row == column:\n",
    "            cov[i, j] = f\"sd_{row}\"\n",
    "        else:\n",
    "            str_ =f\"corr_{row}_{column}\"\n",
    "\n",
    "            cov[i, j] = str_\n",
    "\n",
    "list(cov[np.tril_indices(5, -1)].flatten())"
   ]
  },
  {
   "cell_type": "code",
   "execution_count": 185,
   "metadata": {},
   "outputs": [
    {
     "data": {
      "text/plain": [
       "['sd_a',\n",
       " 'sd_b',\n",
       " 'sd_c',\n",
       " 'sd_edu',\n",
       " 'sd_home',\n",
       " 'corr_b_a',\n",
       " 'corr_c_a',\n",
       " 'corr_c_b',\n",
       " 'corr_edu_a',\n",
       " 'corr_edu_b',\n",
       " 'corr_edu_c',\n",
       " 'corr_home_a',\n",
       " 'corr_home_b',\n",
       " 'corr_home_c',\n",
       " 'corr_home_edu']"
      ]
     },
     "execution_count": 185,
     "metadata": {},
     "output_type": "execute_result"
    }
   ],
   "source": [
    "list(np.diag(cov)) + list(cov[np.tril_indices(5, -1)].flatten())"
   ]
  },
  {
   "cell_type": "code",
   "execution_count": null,
   "metadata": {},
   "outputs": [],
   "source": []
  }
 ],
 "metadata": {
  "kernelspec": {
   "display_name": "Python 3",
   "language": "python",
   "name": "python3"
  },
  "language_info": {
   "codemirror_mode": {
    "name": "ipython",
    "version": 3
   },
   "file_extension": ".py",
   "mimetype": "text/x-python",
   "name": "python",
   "nbconvert_exporter": "python",
   "pygments_lexer": "ipython3",
   "version": "3.7.7"
  }
 },
 "nbformat": 4,
 "nbformat_minor": 4
}
